{
 "cells": [
  {
   "cell_type": "code",
   "execution_count": 7,
   "id": "12b66f13-365c-4d8b-811c-8a894a3a24a4",
   "metadata": {},
   "outputs": [
    {
     "name": "stdout",
     "output_type": "stream",
     "text": [
      "test statistic: -38.0\n",
      "critical value: 1.64\n",
      "no evident that cost are higher.fail to reject null Hypothesis.\n"
     ]
    }
   ],
   "source": [
    "##Hypothesis Testing\n",
    "#given values\n",
    "sample_mean=3050\n",
    "expected_mean=4000\n",
    "std_dev=25\n",
    "n=25\n",
    "#calculate standard error\n",
    "se=(5*std_dev)/(n**0.5)\n",
    "#calculate test statistic\n",
    "t_stat=(sample_mean-expected_mean)/se\n",
    "print(\"test statistic:\",round(t_stat,2))\n",
    "#critical value for 5% significance level\n",
    "critical_val=1.64\n",
    "print(\"critical value:\",critical_val)\n",
    "#compare and conclude\n",
    "if t_stat>critical_val:\n",
    "    print(\"costs are higher.reject null Hypothesis.\")\n",
    "else:\n",
    "    print(\"no evident that cost are higher.fail to reject null Hypothesis.\")"
   ]
  },
  {
   "cell_type": "code",
   "execution_count": null,
   "id": "4f9c51cd-fae1-4e28-9bad-29b8fa05ffff",
   "metadata": {},
   "outputs": [],
   "source": []
  }
 ],
 "metadata": {
  "kernelspec": {
   "display_name": "Python [conda env:base] *",
   "language": "python",
   "name": "conda-base-py"
  },
  "language_info": {
   "codemirror_mode": {
    "name": "ipython",
    "version": 3
   },
   "file_extension": ".py",
   "mimetype": "text/x-python",
   "name": "python",
   "nbconvert_exporter": "python",
   "pygments_lexer": "ipython3",
   "version": "3.12.7"
  }
 },
 "nbformat": 4,
 "nbformat_minor": 5
}
